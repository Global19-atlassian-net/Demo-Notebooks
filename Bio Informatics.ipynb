{
 "cells": [
  {
   "cell_type": "markdown",
   "metadata": {},
   "source": [
    "# Coalescent simulator\n",
    "\n",
    "by Marshall Hampton"
   ]
  },
  {
   "cell_type": "code",
   "execution_count": 2,
   "metadata": {},
   "outputs": [
    {
     "data": {
      "application/vnd.jupyter.widget-view+json": {
       "model_id": "ee1b6821f9564e1680ac33c14592c494",
       "version_major": 2,
       "version_minor": 0
      },
      "text/plain": [
       "SW50ZXJhY3RpdmUgZnVuY3Rpb24gPGZ1bmN0aW9uIGNvYWxlc2NlbnRzIGF0IDB4N2ZhZDU3Y2Q4MDUwPiB3aXRoIDMgd2lkZ2V0cwogIHBvcF9zaXplOiBUcmFuc2Zvcm1JbnRTbGlkZXIodmHigKY=\n"
      ]
     },
     "metadata": {},
     "output_type": "display_data"
    }
   ],
   "source": [
    "def next_gen(x, selection=1.0):\n",
    "    '''Creates the next generation from the previous; also returns parent-child indexing list'''\n",
    "    next_x = []\n",
    "    for ind in range(len(x)):\n",
    "        if random() < (1 + selection)/len(x):\n",
    "            rind = 0\n",
    "        else:\n",
    "            rind = int(round(random()*(len(x)-1)+1/2))\n",
    "        next_x.append((x[rind],rind))\n",
    "    next_x.sort()\n",
    "    return [[x[0] for x in next_x],[x[1] for x in next_x]]\n",
    "\n",
    "def coal_plot(some_data):\n",
    "    '''Creates a graphics object from coalescent data'''\n",
    "    gens = some_data[0]\n",
    "    inds = some_data[1]\n",
    "    gen_lines = line([[0,0]])\n",
    "    pts = Graphics()\n",
    "    ngens = len(gens)\n",
    "    gen_size = len(gens[0])\n",
    "    for x in range(gen_size):\n",
    "        pts += point((x,ngens-1), hue = gens[0][x]/float(gen_size*1.1))\n",
    "    p_frame = line([[-.5,-.5],[-.5,ngens-.5], [gen_size-.5,ngens-.5], [gen_size-.5,-.5], [-.5,-.5]])\n",
    "    for g in range(1,ngens):\n",
    "        for x in range(gen_size):\n",
    "            old_x = inds[g-1][x]\n",
    "            gen_lines += line([[x,ngens-g-1],[old_x,ngens-g]], hue = gens[g-1][old_x]/float(gen_size*1.1))\n",
    "            pts += point((x,ngens-g-1), hue = gens[g][x]/float(gen_size*1.1))\n",
    "    return pts+gen_lines+p_frame\n",
    "d_field = RealField(10)\n",
    "\n",
    "@interact\n",
    "def coalescents(pop_size = slider(2,100,1,15,'Population size'), selection = slider(-1,1,.1,0, 'Selection for first taxon'), s = selector(['Again!'], label='Refresh', buttons=True)):\n",
    "    print 'Population size: ' + str(pop_size)\n",
    "    print 'Selection coefficient for first taxon: ' + str(d_field(selection))\n",
    "    start = [i for i in range(pop_size)]\n",
    "    gens = [start]\n",
    "    inds = []\n",
    "    while gens[-1][0] != gens[-1][-1]:\n",
    "        g_index = len(gens) - 1\n",
    "        n_gen = next_gen(gens[g_index], selection = selection)\n",
    "        gens.append(n_gen[0])\n",
    "        inds.append(n_gen[1])\n",
    "        coal_data1 = [gens,inds]\n",
    "    print('Generations until coalescence: ' + str(len(gens)))\n",
    "    show(coal_plot(coal_data1), axes = False, figsize = [8,4.0*len(gens)/pop_size], ymax = len(gens)-1)"
   ]
  },
  {
   "cell_type": "code",
   "execution_count": null,
   "metadata": {},
   "outputs": [],
   "source": []
  }
 ],
 "metadata": {
  "kernelspec": {
   "display_name": "SageMath 8.5.beta1",
   "language": "",
   "name": "sagemath"
  },
  "language_info": {
   "codemirror_mode": {
    "name": "ipython",
    "version": 2
   },
   "file_extension": ".py",
   "mimetype": "text/x-python",
   "name": "python",
   "nbconvert_exporter": "python",
   "pygments_lexer": "ipython2",
   "version": "2.7.15"
  }
 },
 "nbformat": 4,
 "nbformat_minor": 2
}
